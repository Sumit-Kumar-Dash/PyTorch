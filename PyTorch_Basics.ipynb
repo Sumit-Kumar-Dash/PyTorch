{
  "nbformat": 4,
  "nbformat_minor": 0,
  "metadata": {
    "colab": {
      "provenance": [],
      "authorship_tag": "ABX9TyMtoU4ByWyPdg7K8b6lGST0",
      "include_colab_link": true
    },
    "kernelspec": {
      "name": "python3",
      "display_name": "Python 3"
    },
    "language_info": {
      "name": "python"
    }
  },
  "cells": [
    {
      "cell_type": "markdown",
      "metadata": {
        "id": "view-in-github",
        "colab_type": "text"
      },
      "source": [
        "<a href=\"https://colab.research.google.com/github/Sumit-Kumar-Dash/PyTorch/blob/main/PyTorch_Basics.ipynb\" target=\"_parent\"><img src=\"https://colab.research.google.com/assets/colab-badge.svg\" alt=\"Open In Colab\"/></a>"
      ]
    },
    {
      "cell_type": "code",
      "execution_count": null,
      "metadata": {
        "id": "sqad3vrHcFWv"
      },
      "outputs": [],
      "source": [
        "!pip install torch"
      ]
    },
    {
      "cell_type": "code",
      "source": [
        "!pip3 install torch torchvision torchaudio --index-url https://download.pytorch.org/whl/cu121"
      ],
      "metadata": {
        "id": "8gqVx3oR6OBS"
      },
      "execution_count": null,
      "outputs": []
    },
    {
      "cell_type": "markdown",
      "source": [
        "**CUDA** is a programming model and computing toolkit developed by NVIDIA.\n",
        "It enables you to perform compute-intensive operations faster by parallelizing tasks across GPUs.\n",
        "CUDA is the dominant API used for deep learning although other options are available, such as OpenCL.\n",
        "PyTorch provides support for CUDA in the torch"
      ],
      "metadata": {
        "id": "0u1uXvawcot-"
      }
    },
    {
      "cell_type": "markdown",
      "source": [
        "CUDA stands for Compute Unified Device Architecture.\n",
        "\n",
        "It is a parallel computing platform and programming model developed by NVIDIA.\n",
        "\n",
        "It allows developers to use the parallel processing power of Nvidia GPUs for general computing applications.\n",
        "\n",
        "PyTorch is a popular deep learning framework that supports CUDA.\n",
        "  \n",
        "To use CUDA in PyTorch, you need to have a Nvidia GPU and the CUDA toolkit installed. Once you have that, you can use the **torch.cuda** library to set up and run CUDA operations.\n",
        "\n",
        "The torch.cuda library provides a number of functions for working with CUDA, including:\n",
        "\n",
        "\n",
        "*  **torch.cuda.is_available()** - Checks if CUDA is available.\n",
        "*  **torch.cuda.device_count()** - Returns the number of CUDA devices\n",
        "*  **torch.cuda.current_device()** - Returns the current CUDA device.\n",
        "*  **torch.cuda.set_device()** - Sets the current CUDA device.\n",
        "*  **torch.cuda.FloatTensor** - Creates a float tensor on the current CUDA device\n",
        "*  **torch.cuda.LongTensor** - Creates a long tensor on the current CUDA device\n",
        "\n",
        "You can also use the torch.cuda.synchronize() function to wait for all CUDA operations to complete.\n",
        "Here is an example of how to use CUDA in PyTorch:\n",
        "Python\n",
        "\n",
        "CUDA can be used to accelerate a variety of PyTorch operations, including:\n",
        "Convolutional neural networks (CNNs), Recurrent neural networks (RNNs), Long short-term memory (LSTM) networks, Gated recurrent units (GRUs), and Attention mechanisms.\n",
        "\n",
        "If you are using PyTorch for deep learning, it is worth considering using CUDA to accelerate your training and inference.\n",
        "\n"
      ],
      "metadata": {
        "id": "yEd8oT2XdOZe"
      }
    },
    {
      "cell_type": "code",
      "source": [
        "import torch\n",
        "\n",
        "# Check if CUDA is available\n",
        "if torch.cuda.is_available():\n",
        "    # Set the current CUDA device\n",
        "    torch.cuda.set_device(0)\n",
        "\n",
        "    # Create a float tensor on the current CUDA device\n",
        "    x = torch.tensor([1, 2, 3])\n",
        "\n",
        "    # Perform an operation on the tensor\n",
        "    y = x * 2\n",
        "\n",
        "    # Print the result\n",
        "    print(y)"
      ],
      "metadata": {
        "colab": {
          "base_uri": "https://localhost:8080/"
        },
        "id": "B-4WG-mwcdiZ",
        "outputId": "cc6afa4d-8f28-4a7f-d687-5f380b30b98b"
      },
      "execution_count": 4,
      "outputs": [
        {
          "output_type": "stream",
          "name": "stdout",
          "text": [
            "tensor([2, 4, 6])\n"
          ]
        }
      ]
    },
    {
      "cell_type": "code",
      "source": [
        "x = torch.rand(5, 3)\n",
        "print(x)"
      ],
      "metadata": {
        "colab": {
          "base_uri": "https://localhost:8080/"
        },
        "id": "EW70a5cnfX20",
        "outputId": "bdcffe0d-e976-4ff0-d3ee-96035db171e0"
      },
      "execution_count": 3,
      "outputs": [
        {
          "output_type": "stream",
          "name": "stdout",
          "text": [
            "tensor([[0.9809, 0.4609, 0.3755],\n",
            "        [0.2683, 0.5050, 0.5514],\n",
            "        [0.2361, 0.8977, 0.4602],\n",
            "        [0.4461, 0.3793, 0.8545],\n",
            "        [0.4981, 0.7001, 0.2085]])\n"
          ]
        }
      ]
    },
    {
      "cell_type": "markdown",
      "source": [
        "**What is tensor?**\n",
        "\n",
        "A kind of data structure => multidimensional arrays or matrices\n",
        "\n",
        "With tensors you enocode all your parameters.\n",
        "\n",
        "**Type Conversions**\n",
        "\n",
        "  Conversions from one datatype to another.\n",
        "  \n",
        "  Conversions from torch tensors to numpy arrays and vice versa.\n"
      ],
      "metadata": {
        "id": "8PgflyureQSk"
      }
    },
    {
      "cell_type": "markdown",
      "source": [
        "# Tensors"
      ],
      "metadata": {
        "id": "dnB0BJjFesOG"
      }
    },
    {
      "cell_type": "code",
      "source": [
        "import torch"
      ],
      "metadata": {
        "id": "Y4xujQMKe_gU"
      },
      "execution_count": 4,
      "outputs": []
    },
    {
      "cell_type": "code",
      "source": [
        "device = \"cuda\" if torch.cuda.is_available() else \"cpu\"\n",
        "\n",
        "device"
      ],
      "metadata": {
        "colab": {
          "base_uri": "https://localhost:8080/",
          "height": 35
        },
        "id": "V_G2STI4oZoq",
        "outputId": "0996a40c-731f-48e0-9c5f-b3ed1954e8b2"
      },
      "execution_count": 14,
      "outputs": [
        {
          "output_type": "execute_result",
          "data": {
            "text/plain": [
              "'cpu'"
            ],
            "application/vnd.google.colaboratory.intrinsic+json": {
              "type": "string"
            }
          },
          "metadata": {},
          "execution_count": 14
        }
      ]
    },
    {
      "cell_type": "code",
      "source": [
        "torch.tensor([1,2,3])"
      ],
      "metadata": {
        "colab": {
          "base_uri": "https://localhost:8080/"
        },
        "id": "li3K9VNmfQhk",
        "outputId": "dac5e149-9c16-45c9-97f3-73471561a9d9"
      },
      "execution_count": 10,
      "outputs": [
        {
          "output_type": "execute_result",
          "data": {
            "text/plain": [
              "tensor([1, 2, 3])"
            ]
          },
          "metadata": {},
          "execution_count": 10
        }
      ]
    },
    {
      "cell_type": "code",
      "source": [
        "torch.tensor([1,2,3]).shape"
      ],
      "metadata": {
        "colab": {
          "base_uri": "https://localhost:8080/"
        },
        "id": "Z93ActxYfbJ8",
        "outputId": "552e3878-e5cd-459f-ee03-950abb8187b9"
      },
      "execution_count": 11,
      "outputs": [
        {
          "output_type": "execute_result",
          "data": {
            "text/plain": [
              "torch.Size([3])"
            ]
          },
          "metadata": {},
          "execution_count": 11
        }
      ]
    },
    {
      "cell_type": "code",
      "source": [
        "basic_tensor = torch.tensor([[1,2,3],[1,3,5]])\n",
        "basic_tensor"
      ],
      "metadata": {
        "colab": {
          "base_uri": "https://localhost:8080/"
        },
        "id": "E66Z1XhVe1io",
        "outputId": "166a7c35-c5d7-440e-8a9e-5a1471be3e67"
      },
      "execution_count": 6,
      "outputs": [
        {
          "output_type": "execute_result",
          "data": {
            "text/plain": [
              "tensor([[1, 2, 3],\n",
              "        [1, 3, 5]])"
            ]
          },
          "metadata": {},
          "execution_count": 6
        }
      ]
    },
    {
      "cell_type": "code",
      "source": [
        "basic_tensor.device"
      ],
      "metadata": {
        "colab": {
          "base_uri": "https://localhost:8080/"
        },
        "id": "EUuIxa99e1fd",
        "outputId": "a693d36a-0864-40cf-e0b5-cd1257c1f1dd"
      },
      "execution_count": 7,
      "outputs": [
        {
          "output_type": "execute_result",
          "data": {
            "text/plain": [
              "device(type='cpu')"
            ]
          },
          "metadata": {},
          "execution_count": 7
        }
      ]
    },
    {
      "cell_type": "code",
      "source": [
        "basic_tensor.dtype"
      ],
      "metadata": {
        "colab": {
          "base_uri": "https://localhost:8080/"
        },
        "id": "YXT3athke1Xl",
        "outputId": "b6e95b7c-ccd1-49bb-d366-473cae8e02e9"
      },
      "execution_count": 8,
      "outputs": [
        {
          "output_type": "execute_result",
          "data": {
            "text/plain": [
              "torch.int64"
            ]
          },
          "metadata": {},
          "execution_count": 8
        }
      ]
    },
    {
      "cell_type": "code",
      "source": [
        "basic_tensor.shape # 2 rows and 3 cols"
      ],
      "metadata": {
        "colab": {
          "base_uri": "https://localhost:8080/"
        },
        "id": "eNoPkIM4e1Ur",
        "outputId": "428989e5-0697-4f0c-9869-bd7c4f52d8ce"
      },
      "execution_count": 9,
      "outputs": [
        {
          "output_type": "execute_result",
          "data": {
            "text/plain": [
              "torch.Size([2, 3])"
            ]
          },
          "metadata": {},
          "execution_count": 9
        }
      ]
    },
    {
      "cell_type": "code",
      "source": [
        "basic_tensor.requires_grad\n",
        "#Is True if gradients need to be computed for this Tensor, False otherwise.\n",
        "#The fact that gradients need to be computed for a Tensor do not mean that the grad attribute will be populated, see is_leaf for more details"
      ],
      "metadata": {
        "colab": {
          "base_uri": "https://localhost:8080/"
        },
        "id": "_qL226O5e1Rz",
        "outputId": "8af0697a-10e5-415f-8e3e-49ede8903eb9"
      },
      "execution_count": 13,
      "outputs": [
        {
          "output_type": "execute_result",
          "data": {
            "text/plain": [
              "False"
            ]
          },
          "metadata": {},
          "execution_count": 13
        }
      ]
    },
    {
      "cell_type": "code",
      "source": [
        "tensor = torch.tensor([[1,2,3],[11,22,33]],\n",
        "                      dtype=torch.float,\n",
        "                      device=device,\n",
        "                      requires_grad=True)\n",
        "tensor"
      ],
      "metadata": {
        "colab": {
          "base_uri": "https://localhost:8080/"
        },
        "id": "AaL4zQaNfv-B",
        "outputId": "289157c2-ab61-4f04-c134-1f1420a3afd6"
      },
      "execution_count": 17,
      "outputs": [
        {
          "output_type": "execute_result",
          "data": {
            "text/plain": [
              "tensor([[ 1.,  2.,  3.],\n",
              "        [11., 22., 33.]], requires_grad=True)"
            ]
          },
          "metadata": {},
          "execution_count": 17
        }
      ]
    },
    {
      "cell_type": "code",
      "source": [
        "tensor.dtype"
      ],
      "metadata": {
        "colab": {
          "base_uri": "https://localhost:8080/"
        },
        "id": "531pGlESgnwo",
        "outputId": "5056da5e-8151-4de2-da47-279d92b90bfd"
      },
      "execution_count": 16,
      "outputs": [
        {
          "output_type": "execute_result",
          "data": {
            "text/plain": [
              "torch.float32"
            ]
          },
          "metadata": {},
          "execution_count": 16
        }
      ]
    },
    {
      "cell_type": "code",
      "source": [
        "tensor.requires_grad"
      ],
      "metadata": {
        "colab": {
          "base_uri": "https://localhost:8080/"
        },
        "id": "iXiIysqhgs3B",
        "outputId": "fb58b630-4598-45a4-c614-d41f34c827af"
      },
      "execution_count": 18,
      "outputs": [
        {
          "output_type": "execute_result",
          "data": {
            "text/plain": [
              "True"
            ]
          },
          "metadata": {},
          "execution_count": 18
        }
      ]
    },
    {
      "cell_type": "markdown",
      "source": [
        "# Others common used Tensors"
      ],
      "metadata": {
        "id": "XQyULWEdg-3l"
      }
    },
    {
      "cell_type": "code",
      "source": [
        "x = torch.empty(size=(3,3))\n",
        "x"
      ],
      "metadata": {
        "colab": {
          "base_uri": "https://localhost:8080/"
        },
        "id": "-6ziWCuWg5pX",
        "outputId": "dce1a797-0fe2-4046-fb4e-4625a6806ee2"
      },
      "execution_count": 19,
      "outputs": [
        {
          "output_type": "execute_result",
          "data": {
            "text/plain": [
              "tensor([[-8.8571e+31,  4.3592e-41, -7.0902e+25],\n",
              "        [ 3.1469e-41,  4.4842e-44,  0.0000e+00],\n",
              "        [ 8.9683e-44,  0.0000e+00, -9.7767e-26]])"
            ]
          },
          "metadata": {},
          "execution_count": 19
        }
      ]
    },
    {
      "cell_type": "code",
      "source": [
        "x = torch.zeros(size=(2,3))\n",
        "x"
      ],
      "metadata": {
        "colab": {
          "base_uri": "https://localhost:8080/"
        },
        "id": "8BR8hb73hGIv",
        "outputId": "3c5ee192-af80-4821-c7ff-2438458dbbb0"
      },
      "execution_count": 20,
      "outputs": [
        {
          "output_type": "execute_result",
          "data": {
            "text/plain": [
              "tensor([[0., 0., 0.],\n",
              "        [0., 0., 0.]])"
            ]
          },
          "metadata": {},
          "execution_count": 20
        }
      ]
    },
    {
      "cell_type": "code",
      "source": [
        "x = torch.ones(size=(2,3))\n",
        "x"
      ],
      "metadata": {
        "colab": {
          "base_uri": "https://localhost:8080/"
        },
        "id": "01ZVcq57hLOc",
        "outputId": "8a52a5c4-9b5d-488e-b9c9-e2506686d71f"
      },
      "execution_count": 21,
      "outputs": [
        {
          "output_type": "execute_result",
          "data": {
            "text/plain": [
              "tensor([[1., 1., 1.],\n",
              "        [1., 1., 1.]])"
            ]
          },
          "metadata": {},
          "execution_count": 21
        }
      ]
    },
    {
      "cell_type": "code",
      "source": [
        "x = torch.rand(size=(2,3))\n",
        "x"
      ],
      "metadata": {
        "colab": {
          "base_uri": "https://localhost:8080/"
        },
        "id": "ZBZMvBinhNBp",
        "outputId": "52ed1da0-dc0a-4104-833b-b26989711402"
      },
      "execution_count": 22,
      "outputs": [
        {
          "output_type": "execute_result",
          "data": {
            "text/plain": [
              "tensor([[0.4742, 0.3759, 0.6747],\n",
              "        [0.9440, 0.6288, 0.7551]])"
            ]
          },
          "metadata": {},
          "execution_count": 22
        }
      ]
    },
    {
      "cell_type": "code",
      "source": [
        "x = torch.eye(2) # identity matrix\n",
        "x"
      ],
      "metadata": {
        "colab": {
          "base_uri": "https://localhost:8080/"
        },
        "id": "Kx7igpKNhPNQ",
        "outputId": "6145029f-e1ea-41b2-c5d8-c462a9add4bb"
      },
      "execution_count": 24,
      "outputs": [
        {
          "output_type": "execute_result",
          "data": {
            "text/plain": [
              "tensor([[1., 0.],\n",
              "        [0., 1.]])"
            ]
          },
          "metadata": {},
          "execution_count": 24
        }
      ]
    },
    {
      "cell_type": "code",
      "source": [
        "x = torch.eye(3)\n",
        "x"
      ],
      "metadata": {
        "colab": {
          "base_uri": "https://localhost:8080/"
        },
        "id": "HoS_d7z4hYCS",
        "outputId": "83bb5168-d5d7-425c-f5dd-b0325adcab9b"
      },
      "execution_count": 25,
      "outputs": [
        {
          "output_type": "execute_result",
          "data": {
            "text/plain": [
              "tensor([[1., 0., 0.],\n",
              "        [0., 1., 0.],\n",
              "        [0., 0., 1.]])"
            ]
          },
          "metadata": {},
          "execution_count": 25
        }
      ]
    },
    {
      "cell_type": "code",
      "source": [
        "x = torch.arange(start=2,end=9.5,step=1.5)\n",
        "x"
      ],
      "metadata": {
        "colab": {
          "base_uri": "https://localhost:8080/"
        },
        "id": "Jigci7duhb2r",
        "outputId": "5517e86d-582e-4735-be8b-c3b132493dce"
      },
      "execution_count": 27,
      "outputs": [
        {
          "output_type": "execute_result",
          "data": {
            "text/plain": [
              "tensor([2.0000, 3.5000, 5.0000, 6.5000, 8.0000])"
            ]
          },
          "metadata": {},
          "execution_count": 27
        }
      ]
    },
    {
      "cell_type": "code",
      "source": [
        "x = torch.linspace(start=2,end=9,steps=5)\n",
        "x"
      ],
      "metadata": {
        "colab": {
          "base_uri": "https://localhost:8080/"
        },
        "id": "Ajf_3-8IhnFt",
        "outputId": "65fa00cd-5947-4194-c6f4-124e0ea0355d"
      },
      "execution_count": 32,
      "outputs": [
        {
          "output_type": "execute_result",
          "data": {
            "text/plain": [
              "tensor([2.0000, 3.7500, 5.5000, 7.2500, 9.0000])"
            ]
          },
          "metadata": {},
          "execution_count": 32
        }
      ]
    },
    {
      "cell_type": "code",
      "source": [
        "x = torch.rand(size=(2,3)).normal_(mean=0,std=1)\n",
        "x"
      ],
      "metadata": {
        "colab": {
          "base_uri": "https://localhost:8080/"
        },
        "id": "YrU9cw_Jhzz1",
        "outputId": "58d37359-bb30-4802-fa9f-272cf085d64f"
      },
      "execution_count": 33,
      "outputs": [
        {
          "output_type": "execute_result",
          "data": {
            "text/plain": [
              "tensor([[-1.8877,  0.6061,  0.1606],\n",
              "        [-0.9650, -0.2729, -0.8816]])"
            ]
          },
          "metadata": {},
          "execution_count": 33
        }
      ]
    },
    {
      "cell_type": "code",
      "source": [
        "x = torch.rand(size=(2,3)).uniform_(3,5)\n",
        "x"
      ],
      "metadata": {
        "colab": {
          "base_uri": "https://localhost:8080/"
        },
        "id": "RSpTPZDOiJP0",
        "outputId": "9a086319-6cce-47ff-e624-0ab2f6cd025d"
      },
      "execution_count": 35,
      "outputs": [
        {
          "output_type": "execute_result",
          "data": {
            "text/plain": [
              "tensor([[3.4436, 4.6304, 4.5448],\n",
              "        [4.5510, 4.4155, 4.8361]])"
            ]
          },
          "metadata": {},
          "execution_count": 35
        }
      ]
    },
    {
      "cell_type": "code",
      "source": [
        "x = torch.diag(torch.ones(10))\n",
        "x"
      ],
      "metadata": {
        "colab": {
          "base_uri": "https://localhost:8080/"
        },
        "id": "xIX2CZA9iPuG",
        "outputId": "e930677e-8e83-4d5f-d4ee-588a1bce8830"
      },
      "execution_count": 38,
      "outputs": [
        {
          "output_type": "execute_result",
          "data": {
            "text/plain": [
              "tensor([[1., 0., 0., 0., 0., 0., 0., 0., 0., 0.],\n",
              "        [0., 1., 0., 0., 0., 0., 0., 0., 0., 0.],\n",
              "        [0., 0., 1., 0., 0., 0., 0., 0., 0., 0.],\n",
              "        [0., 0., 0., 1., 0., 0., 0., 0., 0., 0.],\n",
              "        [0., 0., 0., 0., 1., 0., 0., 0., 0., 0.],\n",
              "        [0., 0., 0., 0., 0., 1., 0., 0., 0., 0.],\n",
              "        [0., 0., 0., 0., 0., 0., 1., 0., 0., 0.],\n",
              "        [0., 0., 0., 0., 0., 0., 0., 1., 0., 0.],\n",
              "        [0., 0., 0., 0., 0., 0., 0., 0., 1., 0.],\n",
              "        [0., 0., 0., 0., 0., 0., 0., 0., 0., 1.]])"
            ]
          },
          "metadata": {},
          "execution_count": 38
        }
      ]
    },
    {
      "cell_type": "code",
      "source": [
        "x = torch.diag(6*torch.ones(10))\n",
        "x"
      ],
      "metadata": {
        "colab": {
          "base_uri": "https://localhost:8080/"
        },
        "id": "Bx4VmnBCiWYA",
        "outputId": "199849a8-11c7-418e-f99a-1f2d0c3c7001"
      },
      "execution_count": 39,
      "outputs": [
        {
          "output_type": "execute_result",
          "data": {
            "text/plain": [
              "tensor([[6., 0., 0., 0., 0., 0., 0., 0., 0., 0.],\n",
              "        [0., 6., 0., 0., 0., 0., 0., 0., 0., 0.],\n",
              "        [0., 0., 6., 0., 0., 0., 0., 0., 0., 0.],\n",
              "        [0., 0., 0., 6., 0., 0., 0., 0., 0., 0.],\n",
              "        [0., 0., 0., 0., 6., 0., 0., 0., 0., 0.],\n",
              "        [0., 0., 0., 0., 0., 6., 0., 0., 0., 0.],\n",
              "        [0., 0., 0., 0., 0., 0., 6., 0., 0., 0.],\n",
              "        [0., 0., 0., 0., 0., 0., 0., 6., 0., 0.],\n",
              "        [0., 0., 0., 0., 0., 0., 0., 0., 6., 0.],\n",
              "        [0., 0., 0., 0., 0., 0., 0., 0., 0., 6.]])"
            ]
          },
          "metadata": {},
          "execution_count": 39
        }
      ]
    },
    {
      "cell_type": "markdown",
      "source": [
        "# Conversions"
      ],
      "metadata": {
        "id": "Q01wz9itkJWG"
      }
    },
    {
      "cell_type": "code",
      "source": [
        "x=torch.arange(4)\n",
        "x"
      ],
      "metadata": {
        "colab": {
          "base_uri": "https://localhost:8080/"
        },
        "id": "KXdwpPzqiYTc",
        "outputId": "39a1070a-2917-49f4-b9c3-e92546f3db3f"
      },
      "execution_count": 40,
      "outputs": [
        {
          "output_type": "execute_result",
          "data": {
            "text/plain": [
              "tensor([0, 1, 2, 3])"
            ]
          },
          "metadata": {},
          "execution_count": 40
        }
      ]
    },
    {
      "cell_type": "code",
      "source": [
        "x.bool()"
      ],
      "metadata": {
        "colab": {
          "base_uri": "https://localhost:8080/"
        },
        "id": "kGAuU6cPigpB",
        "outputId": "4347a1b7-a96b-405e-82b1-bfb2a15de44f"
      },
      "execution_count": 41,
      "outputs": [
        {
          "output_type": "execute_result",
          "data": {
            "text/plain": [
              "tensor([False,  True,  True,  True])"
            ]
          },
          "metadata": {},
          "execution_count": 41
        }
      ]
    },
    {
      "cell_type": "code",
      "source": [
        "x.float()"
      ],
      "metadata": {
        "colab": {
          "base_uri": "https://localhost:8080/"
        },
        "id": "bn0SwhKYii5V",
        "outputId": "bd7b39d5-a7c2-48f5-966a-86acb0737a6e"
      },
      "execution_count": 42,
      "outputs": [
        {
          "output_type": "execute_result",
          "data": {
            "text/plain": [
              "tensor([0., 1., 2., 3.])"
            ]
          },
          "metadata": {},
          "execution_count": 42
        }
      ]
    },
    {
      "cell_type": "code",
      "source": [
        "x.short()"
      ],
      "metadata": {
        "colab": {
          "base_uri": "https://localhost:8080/"
        },
        "id": "zgO8XT-pilTF",
        "outputId": "5247ae2a-3c4f-40b0-e085-73aebd8d97bd"
      },
      "execution_count": 43,
      "outputs": [
        {
          "output_type": "execute_result",
          "data": {
            "text/plain": [
              "tensor([0, 1, 2, 3], dtype=torch.int16)"
            ]
          },
          "metadata": {},
          "execution_count": 43
        }
      ]
    },
    {
      "cell_type": "code",
      "source": [
        "x.int()"
      ],
      "metadata": {
        "colab": {
          "base_uri": "https://localhost:8080/"
        },
        "id": "9bYXz2VviqDb",
        "outputId": "05f949c6-1f3e-4b85-85b3-f03bd8dab6e2"
      },
      "execution_count": 44,
      "outputs": [
        {
          "output_type": "execute_result",
          "data": {
            "text/plain": [
              "tensor([0, 1, 2, 3], dtype=torch.int32)"
            ]
          },
          "metadata": {},
          "execution_count": 44
        }
      ]
    },
    {
      "cell_type": "code",
      "source": [
        "x.long()              #torch.int64"
      ],
      "metadata": {
        "colab": {
          "base_uri": "https://localhost:8080/"
        },
        "id": "HRsMIDudiuLt",
        "outputId": "597a9b0b-82e3-41db-d711-47d32f8b6b53"
      },
      "execution_count": 45,
      "outputs": [
        {
          "output_type": "execute_result",
          "data": {
            "text/plain": [
              "tensor([0, 1, 2, 3])"
            ]
          },
          "metadata": {},
          "execution_count": 45
        }
      ]
    },
    {
      "cell_type": "code",
      "source": [
        "x.half()              #torch.float16"
      ],
      "metadata": {
        "colab": {
          "base_uri": "https://localhost:8080/"
        },
        "id": "ZxTQiiE-i01j",
        "outputId": "f98d0fc0-d813-4948-8c80-7a3897172eee"
      },
      "execution_count": 46,
      "outputs": [
        {
          "output_type": "execute_result",
          "data": {
            "text/plain": [
              "tensor([0., 1., 2., 3.], dtype=torch.float16)"
            ]
          },
          "metadata": {},
          "execution_count": 46
        }
      ]
    },
    {
      "cell_type": "code",
      "source": [
        "x.float()             #torch.float32"
      ],
      "metadata": {
        "colab": {
          "base_uri": "https://localhost:8080/"
        },
        "id": "CWjzvBTpi123",
        "outputId": "2f4d3fee-0427-4630-9928-769dc9f228ad"
      },
      "execution_count": 47,
      "outputs": [
        {
          "output_type": "execute_result",
          "data": {
            "text/plain": [
              "tensor([0., 1., 2., 3.])"
            ]
          },
          "metadata": {},
          "execution_count": 47
        }
      ]
    },
    {
      "cell_type": "code",
      "source": [
        "x.double()"
      ],
      "metadata": {
        "colab": {
          "base_uri": "https://localhost:8080/"
        },
        "id": "q0-lxIqHjEmd",
        "outputId": "91fef4ba-ea3f-47c6-e28c-08ba2aaad7b0"
      },
      "execution_count": 48,
      "outputs": [
        {
          "output_type": "execute_result",
          "data": {
            "text/plain": [
              "tensor([0., 1., 2., 3.], dtype=torch.float64)"
            ]
          },
          "metadata": {},
          "execution_count": 48
        }
      ]
    },
    {
      "cell_type": "code",
      "source": [
        "import numpy as np\n",
        "np_array = np.array([[1,2,3], [1,2,3]])\n",
        "\n",
        "np_array"
      ],
      "metadata": {
        "colab": {
          "base_uri": "https://localhost:8080/"
        },
        "id": "H_F9vUPPjJEu",
        "outputId": "d176e1bb-e0a1-4db9-c6d9-a0388efaf08d"
      },
      "execution_count": 49,
      "outputs": [
        {
          "output_type": "execute_result",
          "data": {
            "text/plain": [
              "array([[1, 2, 3],\n",
              "       [1, 2, 3]])"
            ]
          },
          "metadata": {},
          "execution_count": 49
        }
      ]
    },
    {
      "cell_type": "code",
      "source": [
        "tensor  = torch.from_numpy(np_array)\n",
        "tensor"
      ],
      "metadata": {
        "colab": {
          "base_uri": "https://localhost:8080/"
        },
        "id": "ZXtEludpjw-a",
        "outputId": "9de95969-57d1-4b86-84b5-1311ec311a3f"
      },
      "execution_count": 50,
      "outputs": [
        {
          "output_type": "execute_result",
          "data": {
            "text/plain": [
              "tensor([[1, 2, 3],\n",
              "        [1, 2, 3]])"
            ]
          },
          "metadata": {},
          "execution_count": 50
        }
      ]
    },
    {
      "cell_type": "code",
      "source": [
        "tensor.numpy()"
      ],
      "metadata": {
        "colab": {
          "base_uri": "https://localhost:8080/"
        },
        "id": "KH0ocsFKkAmc",
        "outputId": "899435df-0faa-4ae3-eef1-71b63639d7a7"
      },
      "execution_count": 51,
      "outputs": [
        {
          "output_type": "execute_result",
          "data": {
            "text/plain": [
              "array([[1, 2, 3],\n",
              "       [1, 2, 3]])"
            ]
          },
          "metadata": {},
          "execution_count": 51
        }
      ]
    },
    {
      "cell_type": "markdown",
      "source": [
        "# Mathematical Operations"
      ],
      "metadata": {
        "id": "FeaSpyApkTt3"
      }
    },
    {
      "cell_type": "code",
      "source": [
        "x = torch.arange(start=1, end=10, step=4)\n",
        "y = torch.arange(start=5, end=15, step=4)"
      ],
      "metadata": {
        "id": "K4vin18xkC7n"
      },
      "execution_count": 52,
      "outputs": []
    },
    {
      "cell_type": "code",
      "source": [
        "x.shape,y.shape"
      ],
      "metadata": {
        "colab": {
          "base_uri": "https://localhost:8080/"
        },
        "id": "P2BZh_j_tSAr",
        "outputId": "0152d3fa-b1de-4497-97bc-97fe88350531"
      },
      "execution_count": 53,
      "outputs": [
        {
          "output_type": "execute_result",
          "data": {
            "text/plain": [
              "(torch.Size([3]), torch.Size([3]))"
            ]
          },
          "metadata": {},
          "execution_count": 53
        }
      ]
    },
    {
      "cell_type": "code",
      "source": [
        "x"
      ],
      "metadata": {
        "colab": {
          "base_uri": "https://localhost:8080/"
        },
        "id": "Rsskev5KtTIM",
        "outputId": "e945cc43-c381-4d9c-f00a-f245bc9b49a1"
      },
      "execution_count": 54,
      "outputs": [
        {
          "output_type": "execute_result",
          "data": {
            "text/plain": [
              "tensor([1, 5, 9])"
            ]
          },
          "metadata": {},
          "execution_count": 54
        }
      ]
    },
    {
      "cell_type": "code",
      "source": [
        "y"
      ],
      "metadata": {
        "colab": {
          "base_uri": "https://localhost:8080/"
        },
        "id": "zKrYQKb4tVzp",
        "outputId": "61cb11f8-5c00-483a-9dfd-a264e9176ae4"
      },
      "execution_count": 55,
      "outputs": [
        {
          "output_type": "execute_result",
          "data": {
            "text/plain": [
              "tensor([ 5,  9, 13])"
            ]
          },
          "metadata": {},
          "execution_count": 55
        }
      ]
    },
    {
      "cell_type": "code",
      "source": [
        "x+y"
      ],
      "metadata": {
        "colab": {
          "base_uri": "https://localhost:8080/"
        },
        "id": "59kmK56etXHQ",
        "outputId": "ccae6505-7a25-494b-e41a-41f2f54d119e"
      },
      "execution_count": 56,
      "outputs": [
        {
          "output_type": "execute_result",
          "data": {
            "text/plain": [
              "tensor([ 6, 14, 22])"
            ]
          },
          "metadata": {},
          "execution_count": 56
        }
      ]
    },
    {
      "cell_type": "code",
      "source": [
        "x-y"
      ],
      "metadata": {
        "colab": {
          "base_uri": "https://localhost:8080/"
        },
        "id": "hzZVbrSftY15",
        "outputId": "a20db5f7-a2a1-4f4d-a4cf-fb223894e6e9"
      },
      "execution_count": 57,
      "outputs": [
        {
          "output_type": "execute_result",
          "data": {
            "text/plain": [
              "tensor([-4, -4, -4])"
            ]
          },
          "metadata": {},
          "execution_count": 57
        }
      ]
    },
    {
      "cell_type": "code",
      "source": [
        "x*y # element wise multiplication"
      ],
      "metadata": {
        "colab": {
          "base_uri": "https://localhost:8080/"
        },
        "id": "De-U5j4WtaP-",
        "outputId": "96b5bf00-b527-41d9-96c9-72db5cce3d19"
      },
      "execution_count": 58,
      "outputs": [
        {
          "output_type": "execute_result",
          "data": {
            "text/plain": [
              "tensor([  5,  45, 117])"
            ]
          },
          "metadata": {},
          "execution_count": 58
        }
      ]
    },
    {
      "cell_type": "code",
      "source": [
        "torch.dot(x,y) # dot product"
      ],
      "metadata": {
        "colab": {
          "base_uri": "https://localhost:8080/"
        },
        "id": "QFM_LyXHu1KZ",
        "outputId": "55a836f6-1199-4144-f925-77f071a16da0"
      },
      "execution_count": 76,
      "outputs": [
        {
          "output_type": "execute_result",
          "data": {
            "text/plain": [
              "tensor(167)"
            ]
          },
          "metadata": {},
          "execution_count": 76
        }
      ]
    },
    {
      "cell_type": "code",
      "source": [
        "x/y # element wise multiplication"
      ],
      "metadata": {
        "colab": {
          "base_uri": "https://localhost:8080/"
        },
        "id": "oReAApLVtbdx",
        "outputId": "7df1826c-0028-4928-ccd7-822704e62ec6"
      },
      "execution_count": 59,
      "outputs": [
        {
          "output_type": "execute_result",
          "data": {
            "text/plain": [
              "tensor([0.2000, 0.5556, 0.6923])"
            ]
          },
          "metadata": {},
          "execution_count": 59
        }
      ]
    },
    {
      "cell_type": "code",
      "source": [
        "z = torch.ones(3)\n",
        "z"
      ],
      "metadata": {
        "colab": {
          "base_uri": "https://localhost:8080/"
        },
        "id": "2-5bFnZytjKb",
        "outputId": "517d1838-9b8f-41a0-b9b1-635c8410654b"
      },
      "execution_count": 64,
      "outputs": [
        {
          "output_type": "execute_result",
          "data": {
            "text/plain": [
              "tensor([1., 1., 1.])"
            ]
          },
          "metadata": {},
          "execution_count": 64
        }
      ]
    },
    {
      "cell_type": "code",
      "source": [
        "z = z+x\n",
        "z"
      ],
      "metadata": {
        "colab": {
          "base_uri": "https://localhost:8080/"
        },
        "id": "Y2r51Zdttrsy",
        "outputId": "c8cc5f71-4f1e-4ff7-8883-2da030b564b4"
      },
      "execution_count": 65,
      "outputs": [
        {
          "output_type": "execute_result",
          "data": {
            "text/plain": [
              "tensor([ 2.,  6., 10.])"
            ]
          },
          "metadata": {},
          "execution_count": 65
        }
      ]
    },
    {
      "cell_type": "code",
      "source": [
        "z = torch.ones(3)\n",
        "z.add_(x) #inplace addition"
      ],
      "metadata": {
        "colab": {
          "base_uri": "https://localhost:8080/"
        },
        "id": "wpOJkCq0tusJ",
        "outputId": "0039194c-edf1-4e6d-d666-de3e5f4811aa"
      },
      "execution_count": 67,
      "outputs": [
        {
          "output_type": "execute_result",
          "data": {
            "text/plain": [
              "tensor([ 2.,  6., 10.])"
            ]
          },
          "metadata": {},
          "execution_count": 67
        }
      ]
    },
    {
      "cell_type": "code",
      "source": [
        "x.pow(2)"
      ],
      "metadata": {
        "colab": {
          "base_uri": "https://localhost:8080/"
        },
        "id": "Z_TyIxOKt2BG",
        "outputId": "9df182a4-6bc4-41ca-e988-36d5c5ae5150"
      },
      "execution_count": 68,
      "outputs": [
        {
          "output_type": "execute_result",
          "data": {
            "text/plain": [
              "tensor([ 1, 25, 81])"
            ]
          },
          "metadata": {},
          "execution_count": 68
        }
      ]
    },
    {
      "cell_type": "code",
      "source": [
        "x**2"
      ],
      "metadata": {
        "colab": {
          "base_uri": "https://localhost:8080/"
        },
        "id": "Zf4i9ULruC8w",
        "outputId": "57cccf19-3485-4e6b-eec9-889428c5134b"
      },
      "execution_count": 69,
      "outputs": [
        {
          "output_type": "execute_result",
          "data": {
            "text/plain": [
              "tensor([ 1, 25, 81])"
            ]
          },
          "metadata": {},
          "execution_count": 69
        }
      ]
    },
    {
      "cell_type": "code",
      "source": [
        "x > 2"
      ],
      "metadata": {
        "colab": {
          "base_uri": "https://localhost:8080/"
        },
        "id": "K2YczagVuErH",
        "outputId": "8a37281a-8f68-45cc-c458-07a2bf4e6888"
      },
      "execution_count": 70,
      "outputs": [
        {
          "output_type": "execute_result",
          "data": {
            "text/plain": [
              "tensor([False,  True,  True])"
            ]
          },
          "metadata": {},
          "execution_count": 70
        }
      ]
    },
    {
      "cell_type": "code",
      "source": [
        "# matrix multiplication\n",
        "A = torch.rand(size=(3,5))\n",
        "B = torch.rand(size=(5,4))\n",
        "A@B"
      ],
      "metadata": {
        "colab": {
          "base_uri": "https://localhost:8080/"
        },
        "id": "KpooT4LvuHEd",
        "outputId": "04a52254-b24f-4a91-f187-e37f45ad3fe7"
      },
      "execution_count": 71,
      "outputs": [
        {
          "output_type": "execute_result",
          "data": {
            "text/plain": [
              "tensor([[1.5540, 1.6090, 2.3875, 1.7439],\n",
              "        [1.2445, 1.4806, 1.7885, 1.6200],\n",
              "        [1.3201, 1.2340, 2.2718, 1.9919]])"
            ]
          },
          "metadata": {},
          "execution_count": 71
        }
      ]
    },
    {
      "cell_type": "code",
      "source": [
        "A.matmul(B)"
      ],
      "metadata": {
        "colab": {
          "base_uri": "https://localhost:8080/"
        },
        "id": "i_KFMFkHudTs",
        "outputId": "e08b47d2-1484-4d96-e396-91325b48dd95"
      },
      "execution_count": 72,
      "outputs": [
        {
          "output_type": "execute_result",
          "data": {
            "text/plain": [
              "tensor([[1.5540, 1.6090, 2.3875, 1.7439],\n",
              "        [1.2445, 1.4806, 1.7885, 1.6200],\n",
              "        [1.3201, 1.2340, 2.2718, 1.9919]])"
            ]
          },
          "metadata": {},
          "execution_count": 72
        }
      ]
    },
    {
      "cell_type": "code",
      "source": [
        "X = torch.rand([3,3])\n",
        "print(X)\n",
        "X.matrix_exp()"
      ],
      "metadata": {
        "colab": {
          "base_uri": "https://localhost:8080/"
        },
        "id": "WXcVxfNZuf5b",
        "outputId": "0df3f6fc-9f45-45d8-d4f9-0e2bc1721a8e"
      },
      "execution_count": 75,
      "outputs": [
        {
          "output_type": "stream",
          "name": "stdout",
          "text": [
            "tensor([[0.5585, 0.5995, 0.5480],\n",
            "        [0.5544, 0.0019, 0.9622],\n",
            "        [0.0854, 0.1276, 0.0949]])\n"
          ]
        },
        {
          "output_type": "execute_result",
          "data": {
            "text/plain": [
              "tensor([[2.0586, 0.9191, 1.2092],\n",
              "        [0.8615, 1.2975, 1.3087],\n",
              "        [0.1759, 0.1807, 1.2179]])"
            ]
          },
          "metadata": {},
          "execution_count": 75
        }
      ]
    },
    {
      "cell_type": "code",
      "source": [
        "X.matrix_power(2)"
      ],
      "metadata": {
        "colab": {
          "base_uri": "https://localhost:8080/"
        },
        "id": "FcsC1dQVumF_",
        "outputId": "ca407638-4dab-4e4f-ccdd-828ca1b7d391"
      },
      "execution_count": 77,
      "outputs": [
        {
          "output_type": "execute_result",
          "data": {
            "text/plain": [
              "tensor([[0.6911, 0.4059, 0.9349],\n",
              "        [0.3928, 0.4552, 0.3969],\n",
              "        [0.1265, 0.0635, 0.1786]])"
            ]
          },
          "metadata": {},
          "execution_count": 77
        }
      ]
    },
    {
      "cell_type": "code",
      "source": [
        "A"
      ],
      "metadata": {
        "colab": {
          "base_uri": "https://localhost:8080/"
        },
        "id": "7Rpmomu-vGj1",
        "outputId": "5c5198ef-171a-4e75-80e7-4f02b1c3825e"
      },
      "execution_count": 78,
      "outputs": [
        {
          "output_type": "execute_result",
          "data": {
            "text/plain": [
              "tensor([[0.8820, 0.7464, 0.9859, 0.2891, 0.8239],\n",
              "        [0.6432, 0.2987, 0.5741, 0.4754, 0.9766],\n",
              "        [0.9565, 0.9093, 0.6655, 0.9801, 0.2183]])"
            ]
          },
          "metadata": {},
          "execution_count": 78
        }
      ]
    },
    {
      "cell_type": "code",
      "source": [
        "A.shape"
      ],
      "metadata": {
        "colab": {
          "base_uri": "https://localhost:8080/"
        },
        "id": "qWh65YAnvRMC",
        "outputId": "7099b83b-fe58-4b4d-c0f8-8296711df1ea"
      },
      "execution_count": 79,
      "outputs": [
        {
          "output_type": "execute_result",
          "data": {
            "text/plain": [
              "torch.Size([3, 5])"
            ]
          },
          "metadata": {},
          "execution_count": 79
        }
      ]
    },
    {
      "cell_type": "code",
      "source": [
        "A+1"
      ],
      "metadata": {
        "colab": {
          "base_uri": "https://localhost:8080/"
        },
        "id": "R-N1NIJGvSUm",
        "outputId": "f7f24ddb-c067-4da0-c4dd-25567e2d0013"
      },
      "execution_count": 80,
      "outputs": [
        {
          "output_type": "execute_result",
          "data": {
            "text/plain": [
              "tensor([[1.8820, 1.7464, 1.9859, 1.2891, 1.8239],\n",
              "        [1.6432, 1.2987, 1.5741, 1.4754, 1.9766],\n",
              "        [1.9565, 1.9093, 1.6655, 1.9801, 1.2183]])"
            ]
          },
          "metadata": {},
          "execution_count": 80
        }
      ]
    },
    {
      "cell_type": "code",
      "source": [
        "A-1"
      ],
      "metadata": {
        "colab": {
          "base_uri": "https://localhost:8080/"
        },
        "id": "mFovllB-vTkc",
        "outputId": "0e70ac73-2b07-441d-991b-33802b975298"
      },
      "execution_count": 81,
      "outputs": [
        {
          "output_type": "execute_result",
          "data": {
            "text/plain": [
              "tensor([[-0.1180, -0.2536, -0.0141, -0.7109, -0.1761],\n",
              "        [-0.3568, -0.7013, -0.4259, -0.5246, -0.0234],\n",
              "        [-0.0435, -0.0907, -0.3345, -0.0199, -0.7817]])"
            ]
          },
          "metadata": {},
          "execution_count": 81
        }
      ]
    },
    {
      "cell_type": "code",
      "source": [
        "A*5"
      ],
      "metadata": {
        "colab": {
          "base_uri": "https://localhost:8080/"
        },
        "id": "JIsb3QOkvVXF",
        "outputId": "53c8616d-40fd-4efd-d091-819f3774f976"
      },
      "execution_count": 82,
      "outputs": [
        {
          "output_type": "execute_result",
          "data": {
            "text/plain": [
              "tensor([[4.4098, 3.7319, 4.9293, 1.4457, 4.1195],\n",
              "        [3.2159, 1.4934, 2.8707, 2.3772, 4.8828],\n",
              "        [4.7823, 4.5467, 3.3274, 4.9007, 1.0916]])"
            ]
          },
          "metadata": {},
          "execution_count": 82
        }
      ]
    },
    {
      "cell_type": "code",
      "source": [
        "C = torch.ones((1,5))\n",
        "C"
      ],
      "metadata": {
        "colab": {
          "base_uri": "https://localhost:8080/"
        },
        "id": "aobJqgSHvWqu",
        "outputId": "0606805d-4919-490c-bd21-5ac0629e1c90"
      },
      "execution_count": 85,
      "outputs": [
        {
          "output_type": "execute_result",
          "data": {
            "text/plain": [
              "tensor([[1., 1., 1., 1., 1.]])"
            ]
          },
          "metadata": {},
          "execution_count": 85
        }
      ]
    },
    {
      "cell_type": "code",
      "source": [
        "A+C # Broadcasting of matrix"
      ],
      "metadata": {
        "colab": {
          "base_uri": "https://localhost:8080/"
        },
        "id": "sNFVUbSJva9e",
        "outputId": "1cd080bd-02f2-4a21-f7f9-05b8b49b8050"
      },
      "execution_count": 86,
      "outputs": [
        {
          "output_type": "execute_result",
          "data": {
            "text/plain": [
              "tensor([[1.8820, 1.7464, 1.9859, 1.2891, 1.8239],\n",
              "        [1.6432, 1.2987, 1.5741, 1.4754, 1.9766],\n",
              "        [1.9565, 1.9093, 1.6655, 1.9801, 1.2183]])"
            ]
          },
          "metadata": {},
          "execution_count": 86
        }
      ]
    },
    {
      "cell_type": "code",
      "source": [
        "D = torch.ones((2,5))\n",
        "D"
      ],
      "metadata": {
        "colab": {
          "base_uri": "https://localhost:8080/"
        },
        "id": "Kds-ZRANvdd6",
        "outputId": "498f5b0b-d2c8-4217-9570-510c6677941c"
      },
      "execution_count": 87,
      "outputs": [
        {
          "output_type": "execute_result",
          "data": {
            "text/plain": [
              "tensor([[1., 1., 1., 1., 1.],\n",
              "        [1., 1., 1., 1., 1.]])"
            ]
          },
          "metadata": {},
          "execution_count": 87
        }
      ]
    },
    {
      "cell_type": "code",
      "source": [
        "A+D"
      ],
      "metadata": {
        "colab": {
          "base_uri": "https://localhost:8080/",
          "height": 141
        },
        "id": "KOxZUGvFvu4P",
        "outputId": "26975567-36bf-4e35-9231-7fd0b695e6c9"
      },
      "execution_count": 88,
      "outputs": [
        {
          "output_type": "error",
          "ename": "RuntimeError",
          "evalue": "The size of tensor a (3) must match the size of tensor b (2) at non-singleton dimension 0",
          "traceback": [
            "\u001b[0;31m---------------------------------------------------------------------------\u001b[0m",
            "\u001b[0;31mRuntimeError\u001b[0m                              Traceback (most recent call last)",
            "\u001b[0;32m<ipython-input-88-812d7bc955d8>\u001b[0m in \u001b[0;36m<cell line: 1>\u001b[0;34m()\u001b[0m\n\u001b[0;32m----> 1\u001b[0;31m \u001b[0mA\u001b[0m\u001b[0;34m+\u001b[0m\u001b[0mD\u001b[0m\u001b[0;34m\u001b[0m\u001b[0;34m\u001b[0m\u001b[0m\n\u001b[0m",
            "\u001b[0;31mRuntimeError\u001b[0m: The size of tensor a (3) must match the size of tensor b (2) at non-singleton dimension 0"
          ]
        }
      ]
    },
    {
      "cell_type": "code",
      "source": [
        "D = torch.ones((3,1))\n",
        "D"
      ],
      "metadata": {
        "colab": {
          "base_uri": "https://localhost:8080/"
        },
        "id": "fso_5tLzvv4f",
        "outputId": "5a2df108-d3e8-4d02-c7b2-4f90254ec365"
      },
      "execution_count": 89,
      "outputs": [
        {
          "output_type": "execute_result",
          "data": {
            "text/plain": [
              "tensor([[1.],\n",
              "        [1.],\n",
              "        [1.]])"
            ]
          },
          "metadata": {},
          "execution_count": 89
        }
      ]
    },
    {
      "cell_type": "code",
      "source": [
        "A+D"
      ],
      "metadata": {
        "colab": {
          "base_uri": "https://localhost:8080/"
        },
        "id": "dMAanam0v13X",
        "outputId": "0d4aace0-6186-4dee-a7a3-2edb2d38117f"
      },
      "execution_count": 90,
      "outputs": [
        {
          "output_type": "execute_result",
          "data": {
            "text/plain": [
              "tensor([[1.8820, 1.7464, 1.9859, 1.2891, 1.8239],\n",
              "        [1.6432, 1.2987, 1.5741, 1.4754, 1.9766],\n",
              "        [1.9565, 1.9093, 1.6655, 1.9801, 1.2183]])"
            ]
          },
          "metadata": {},
          "execution_count": 90
        }
      ]
    },
    {
      "cell_type": "code",
      "source": [
        "torch.sum(A) # sum of all elemnts of A"
      ],
      "metadata": {
        "colab": {
          "base_uri": "https://localhost:8080/"
        },
        "id": "LZY7NMpXv3Ux",
        "outputId": "4a46b369-f530-465b-af33-35fe4d8087cd"
      },
      "execution_count": 91,
      "outputs": [
        {
          "output_type": "execute_result",
          "data": {
            "text/plain": [
              "tensor(10.4250)"
            ]
          },
          "metadata": {},
          "execution_count": 91
        }
      ]
    },
    {
      "cell_type": "code",
      "source": [
        "torch.max(A)"
      ],
      "metadata": {
        "colab": {
          "base_uri": "https://localhost:8080/"
        },
        "id": "VN_tSWiev_Da",
        "outputId": "230cafca-0b6a-43d5-d651-c0a4cb774ec7"
      },
      "execution_count": 92,
      "outputs": [
        {
          "output_type": "execute_result",
          "data": {
            "text/plain": [
              "tensor(0.9859)"
            ]
          },
          "metadata": {},
          "execution_count": 92
        }
      ]
    },
    {
      "cell_type": "code",
      "source": [
        "torch.min(A)"
      ],
      "metadata": {
        "colab": {
          "base_uri": "https://localhost:8080/"
        },
        "id": "d0OAfQ_rweIO",
        "outputId": "76db6199-58db-4992-9460-b4d31fa1c9c9"
      },
      "execution_count": 93,
      "outputs": [
        {
          "output_type": "execute_result",
          "data": {
            "text/plain": [
              "tensor(0.2183)"
            ]
          },
          "metadata": {},
          "execution_count": 93
        }
      ]
    },
    {
      "cell_type": "code",
      "source": [
        "torch.min(A,dim=1)"
      ],
      "metadata": {
        "colab": {
          "base_uri": "https://localhost:8080/"
        },
        "id": "ELZUPsqZwf1N",
        "outputId": "9f498680-b821-46f7-e845-01203a4fab66"
      },
      "execution_count": 94,
      "outputs": [
        {
          "output_type": "execute_result",
          "data": {
            "text/plain": [
              "torch.return_types.min(\n",
              "values=tensor([0.2891, 0.2987, 0.2183]),\n",
              "indices=tensor([3, 1, 4]))"
            ]
          },
          "metadata": {},
          "execution_count": 94
        }
      ]
    },
    {
      "cell_type": "code",
      "source": [
        "torch.max(A,dim=1) #row wise"
      ],
      "metadata": {
        "colab": {
          "base_uri": "https://localhost:8080/"
        },
        "id": "FN2LzZkawj0H",
        "outputId": "d28aa1f4-596f-4fb2-8e84-5685fcd864d5"
      },
      "execution_count": 95,
      "outputs": [
        {
          "output_type": "execute_result",
          "data": {
            "text/plain": [
              "torch.return_types.max(\n",
              "values=tensor([0.9859, 0.9766, 0.9801]),\n",
              "indices=tensor([2, 4, 3]))"
            ]
          },
          "metadata": {},
          "execution_count": 95
        }
      ]
    },
    {
      "cell_type": "code",
      "source": [
        "torch.max(A,dim=0) # column wise"
      ],
      "metadata": {
        "colab": {
          "base_uri": "https://localhost:8080/"
        },
        "id": "Ig4XtR-fwzKP",
        "outputId": "7d769845-6557-411b-e65a-d380d59f71f7"
      },
      "execution_count": 96,
      "outputs": [
        {
          "output_type": "execute_result",
          "data": {
            "text/plain": [
              "torch.return_types.max(\n",
              "values=tensor([0.9565, 0.9093, 0.9859, 0.9801, 0.9766]),\n",
              "indices=tensor([2, 2, 0, 2, 1]))"
            ]
          },
          "metadata": {},
          "execution_count": 96
        }
      ]
    },
    {
      "cell_type": "code",
      "source": [
        "-A"
      ],
      "metadata": {
        "colab": {
          "base_uri": "https://localhost:8080/"
        },
        "id": "Vo-c9INIxBj4",
        "outputId": "cf0dd0d8-c13b-4701-bcc7-d9032a1bc9be"
      },
      "execution_count": 98,
      "outputs": [
        {
          "output_type": "execute_result",
          "data": {
            "text/plain": [
              "tensor([[-0.8820, -0.7464, -0.9859, -0.2891, -0.8239],\n",
              "        [-0.6432, -0.2987, -0.5741, -0.4754, -0.9766],\n",
              "        [-0.9565, -0.9093, -0.6655, -0.9801, -0.2183]])"
            ]
          },
          "metadata": {},
          "execution_count": 98
        }
      ]
    },
    {
      "cell_type": "code",
      "source": [
        "torch.abs(-A)"
      ],
      "metadata": {
        "colab": {
          "base_uri": "https://localhost:8080/"
        },
        "id": "zqBuOZ5Fw6YU",
        "outputId": "a7570f39-2854-4e2b-e756-e14d34982cd5"
      },
      "execution_count": 99,
      "outputs": [
        {
          "output_type": "execute_result",
          "data": {
            "text/plain": [
              "tensor([[0.8820, 0.7464, 0.9859, 0.2891, 0.8239],\n",
              "        [0.6432, 0.2987, 0.5741, 0.4754, 0.9766],\n",
              "        [0.9565, 0.9093, 0.6655, 0.9801, 0.2183]])"
            ]
          },
          "metadata": {},
          "execution_count": 99
        }
      ]
    },
    {
      "cell_type": "code",
      "source": [
        "torch.argmax(A)"
      ],
      "metadata": {
        "colab": {
          "base_uri": "https://localhost:8080/"
        },
        "id": "WSj1q-glxAmY",
        "outputId": "04ace3f1-a624-4475-e1ef-94d99eecdc58"
      },
      "execution_count": 100,
      "outputs": [
        {
          "output_type": "execute_result",
          "data": {
            "text/plain": [
              "tensor(2)"
            ]
          },
          "metadata": {},
          "execution_count": 100
        }
      ]
    },
    {
      "cell_type": "code",
      "source": [
        "torch.argmax(A,dim=1) # row wise"
      ],
      "metadata": {
        "colab": {
          "base_uri": "https://localhost:8080/"
        },
        "id": "jCNlNBGTysCg",
        "outputId": "e0b4a8b5-5dcc-4b69-a84d-92ccbc1915ae"
      },
      "execution_count": 103,
      "outputs": [
        {
          "output_type": "execute_result",
          "data": {
            "text/plain": [
              "tensor([2, 4, 3])"
            ]
          },
          "metadata": {},
          "execution_count": 103
        }
      ]
    },
    {
      "cell_type": "code",
      "source": [
        "torch.argmax(A,dim=0) # column wise"
      ],
      "metadata": {
        "colab": {
          "base_uri": "https://localhost:8080/"
        },
        "id": "SRSQCK5BywDH",
        "outputId": "82009678-f6a4-4295-faef-016be67a3a8c"
      },
      "execution_count": 104,
      "outputs": [
        {
          "output_type": "execute_result",
          "data": {
            "text/plain": [
              "tensor([2, 2, 0, 2, 1])"
            ]
          },
          "metadata": {},
          "execution_count": 104
        }
      ]
    },
    {
      "cell_type": "code",
      "source": [
        "torch.argmin(A)"
      ],
      "metadata": {
        "colab": {
          "base_uri": "https://localhost:8080/"
        },
        "id": "70yeAfBzxGbo",
        "outputId": "e2e0c280-f4e9-4fe5-e3dc-d1574d052e64"
      },
      "execution_count": 101,
      "outputs": [
        {
          "output_type": "execute_result",
          "data": {
            "text/plain": [
              "tensor(14)"
            ]
          },
          "metadata": {},
          "execution_count": 101
        }
      ]
    },
    {
      "cell_type": "code",
      "source": [
        "torch.mean(A)"
      ],
      "metadata": {
        "colab": {
          "base_uri": "https://localhost:8080/"
        },
        "id": "0NVeH7oOyU-R",
        "outputId": "ec7c5563-c201-4052-83af-2e6b3d86bb6b"
      },
      "execution_count": 102,
      "outputs": [
        {
          "output_type": "execute_result",
          "data": {
            "text/plain": [
              "tensor(0.6950)"
            ]
          },
          "metadata": {},
          "execution_count": 102
        }
      ]
    },
    {
      "cell_type": "code",
      "source": [
        "torch.mean(A,dim=0)"
      ],
      "metadata": {
        "colab": {
          "base_uri": "https://localhost:8080/"
        },
        "id": "noK5mI69ynNd",
        "outputId": "8f9fb2c3-8fa7-4600-e95b-9bae0ee92206"
      },
      "execution_count": 105,
      "outputs": [
        {
          "output_type": "execute_result",
          "data": {
            "text/plain": [
              "tensor([0.8272, 0.6515, 0.7418, 0.5816, 0.6729])"
            ]
          },
          "metadata": {},
          "execution_count": 105
        }
      ]
    },
    {
      "cell_type": "code",
      "source": [
        "print(A.shape,D.shape)"
      ],
      "metadata": {
        "colab": {
          "base_uri": "https://localhost:8080/"
        },
        "id": "Y5v2Dps7y2gY",
        "outputId": "a489265e-7fd9-406b-e5a2-e53ce91de09a"
      },
      "execution_count": 107,
      "outputs": [
        {
          "output_type": "stream",
          "name": "stdout",
          "text": [
            "torch.Size([3, 5]) torch.Size([3, 1])\n"
          ]
        }
      ]
    },
    {
      "cell_type": "code",
      "source": [
        "E=torch.ones(A.shape)\n",
        "E.shape"
      ],
      "metadata": {
        "colab": {
          "base_uri": "https://localhost:8080/"
        },
        "id": "pwB1sWy6y6i0",
        "outputId": "3668f0c9-4914-469e-8485-f3ae4766ff7d"
      },
      "execution_count": 108,
      "outputs": [
        {
          "output_type": "execute_result",
          "data": {
            "text/plain": [
              "torch.Size([3, 5])"
            ]
          },
          "metadata": {},
          "execution_count": 108
        }
      ]
    },
    {
      "cell_type": "code",
      "source": [
        "A==E"
      ],
      "metadata": {
        "colab": {
          "base_uri": "https://localhost:8080/"
        },
        "id": "JPDVfDB4zEFx",
        "outputId": "857d6670-3e2a-4a14-db7c-bb34c5fe1834"
      },
      "execution_count": 109,
      "outputs": [
        {
          "output_type": "execute_result",
          "data": {
            "text/plain": [
              "tensor([[False, False, False, False, False],\n",
              "        [False, False, False, False, False],\n",
              "        [False, False, False, False, False]])"
            ]
          },
          "metadata": {},
          "execution_count": 109
        }
      ]
    },
    {
      "cell_type": "code",
      "source": [
        "torch.eq(A,E)"
      ],
      "metadata": {
        "colab": {
          "base_uri": "https://localhost:8080/"
        },
        "id": "dMUoBpo4zGwN",
        "outputId": "d6875b42-c756-4651-e656-c03d90a395f8"
      },
      "execution_count": 110,
      "outputs": [
        {
          "output_type": "execute_result",
          "data": {
            "text/plain": [
              "tensor([[False, False, False, False, False],\n",
              "        [False, False, False, False, False],\n",
              "        [False, False, False, False, False]])"
            ]
          },
          "metadata": {},
          "execution_count": 110
        }
      ]
    },
    {
      "cell_type": "code",
      "source": [
        "torch.eq(A,A)"
      ],
      "metadata": {
        "colab": {
          "base_uri": "https://localhost:8080/"
        },
        "id": "dhgUcMCtzJSo",
        "outputId": "87f7ca50-662a-41e6-d446-4be923d31886"
      },
      "execution_count": 111,
      "outputs": [
        {
          "output_type": "execute_result",
          "data": {
            "text/plain": [
              "tensor([[True, True, True, True, True],\n",
              "        [True, True, True, True, True],\n",
              "        [True, True, True, True, True]])"
            ]
          },
          "metadata": {},
          "execution_count": 111
        }
      ]
    },
    {
      "cell_type": "code",
      "source": [
        "A"
      ],
      "metadata": {
        "colab": {
          "base_uri": "https://localhost:8080/"
        },
        "id": "mt9CUhWozLZw",
        "outputId": "36058d2a-0b04-4adf-c0db-57339312d728"
      },
      "execution_count": 112,
      "outputs": [
        {
          "output_type": "execute_result",
          "data": {
            "text/plain": [
              "tensor([[0.8820, 0.7464, 0.9859, 0.2891, 0.8239],\n",
              "        [0.6432, 0.2987, 0.5741, 0.4754, 0.9766],\n",
              "        [0.9565, 0.9093, 0.6655, 0.9801, 0.2183]])"
            ]
          },
          "metadata": {},
          "execution_count": 112
        }
      ]
    },
    {
      "cell_type": "code",
      "source": [
        "torch.sort(A)"
      ],
      "metadata": {
        "colab": {
          "base_uri": "https://localhost:8080/"
        },
        "id": "fo0UlQOjzMXv",
        "outputId": "77c36f57-a008-4bec-cea1-b4dc6742d035"
      },
      "execution_count": 113,
      "outputs": [
        {
          "output_type": "execute_result",
          "data": {
            "text/plain": [
              "torch.return_types.sort(\n",
              "values=tensor([[0.2891, 0.7464, 0.8239, 0.8820, 0.9859],\n",
              "        [0.2987, 0.4754, 0.5741, 0.6432, 0.9766],\n",
              "        [0.2183, 0.6655, 0.9093, 0.9565, 0.9801]]),\n",
              "indices=tensor([[3, 1, 4, 0, 2],\n",
              "        [1, 3, 2, 0, 4],\n",
              "        [4, 2, 1, 0, 3]]))"
            ]
          },
          "metadata": {},
          "execution_count": 113
        }
      ]
    },
    {
      "cell_type": "code",
      "source": [
        "torch.clamp(A,min=0.5) #value less than 0.5 will replavce with 0.5"
      ],
      "metadata": {
        "colab": {
          "base_uri": "https://localhost:8080/"
        },
        "id": "_y4ZVVhmzOPz",
        "outputId": "52ddf85c-f585-4279-cd71-df943d5f90aa"
      },
      "execution_count": 114,
      "outputs": [
        {
          "output_type": "execute_result",
          "data": {
            "text/plain": [
              "tensor([[0.8820, 0.7464, 0.9859, 0.5000, 0.8239],\n",
              "        [0.6432, 0.5000, 0.5741, 0.5000, 0.9766],\n",
              "        [0.9565, 0.9093, 0.6655, 0.9801, 0.5000]])"
            ]
          },
          "metadata": {},
          "execution_count": 114
        }
      ]
    },
    {
      "cell_type": "markdown",
      "source": [
        "# Indexing & Slicing"
      ],
      "metadata": {
        "id": "hxnsZF8j0e0m"
      }
    },
    {
      "cell_type": "code",
      "source": [
        "import torch\n",
        "import numpy as np\n",
        "import os"
      ],
      "metadata": {
        "id": "6XMHixMnzoCc"
      },
      "execution_count": 1,
      "outputs": []
    },
    {
      "cell_type": "code",
      "source": [
        "x = torch.rand(size=(3,4))\n",
        "x"
      ],
      "metadata": {
        "colab": {
          "base_uri": "https://localhost:8080/"
        },
        "id": "EueaJQLS0mf5",
        "outputId": "8116a78f-140a-4f1e-f31c-b019a1997c82"
      },
      "execution_count": 2,
      "outputs": [
        {
          "output_type": "execute_result",
          "data": {
            "text/plain": [
              "tensor([[0.4003, 0.5918, 0.7612, 0.1421],\n",
              "        [0.5836, 0.2990, 0.3090, 0.7392],\n",
              "        [0.9195, 0.0915, 0.4065, 0.0626]])"
            ]
          },
          "metadata": {},
          "execution_count": 2
        }
      ]
    },
    {
      "cell_type": "markdown",
      "source": [
        "x[rows,cols]\n",
        "\n",
        "row -> start:stop:step\n",
        "\n",
        "col -> start:stop:step"
      ],
      "metadata": {
        "id": "zoZvpP-T1HHv"
      }
    },
    {
      "cell_type": "code",
      "source": [
        "x[0,:] # all col of 1st row"
      ],
      "metadata": {
        "colab": {
          "base_uri": "https://localhost:8080/"
        },
        "id": "83-j8ns20x9h",
        "outputId": "bbc32646-3baf-49be-c45e-01bf84396d14"
      },
      "execution_count": 3,
      "outputs": [
        {
          "output_type": "execute_result",
          "data": {
            "text/plain": [
              "tensor([0.4003, 0.5918, 0.7612, 0.1421])"
            ]
          },
          "metadata": {},
          "execution_count": 3
        }
      ]
    },
    {
      "cell_type": "code",
      "source": [
        "x[:,0] # all row of 1st col"
      ],
      "metadata": {
        "colab": {
          "base_uri": "https://localhost:8080/"
        },
        "id": "oSsM5AEV1MNb",
        "outputId": "7b94e27a-4e61-46a3-ab3e-e5c1b232653d"
      },
      "execution_count": 4,
      "outputs": [
        {
          "output_type": "execute_result",
          "data": {
            "text/plain": [
              "tensor([0.4003, 0.5836, 0.9195])"
            ]
          },
          "metadata": {},
          "execution_count": 4
        }
      ]
    },
    {
      "cell_type": "code",
      "source": [
        "x[0:2,0:3]"
      ],
      "metadata": {
        "colab": {
          "base_uri": "https://localhost:8080/"
        },
        "id": "UwSfv9YX1SkL",
        "outputId": "d3d52a1c-4eff-4043-de4d-a297833c354a"
      },
      "execution_count": 6,
      "outputs": [
        {
          "output_type": "execute_result",
          "data": {
            "text/plain": [
              "tensor([[0.4003, 0.5918, 0.7612],\n",
              "        [0.5836, 0.2990, 0.3090]])"
            ]
          },
          "metadata": {},
          "execution_count": 6
        }
      ]
    },
    {
      "cell_type": "code",
      "source": [
        "x[0:2,0:3:2]"
      ],
      "metadata": {
        "colab": {
          "base_uri": "https://localhost:8080/"
        },
        "id": "mKLKYy_t1a-N",
        "outputId": "05925f33-4a5d-415b-9ad3-521f49e889e9"
      },
      "execution_count": 7,
      "outputs": [
        {
          "output_type": "execute_result",
          "data": {
            "text/plain": [
              "tensor([[0.4003, 0.7612],\n",
              "        [0.5836, 0.3090]])"
            ]
          },
          "metadata": {},
          "execution_count": 7
        }
      ]
    },
    {
      "cell_type": "code",
      "source": [
        "x[0,0]"
      ],
      "metadata": {
        "colab": {
          "base_uri": "https://localhost:8080/"
        },
        "id": "GXOcJDRO1eIy",
        "outputId": "48642a00-dc27-41d8-cbe7-31e4a01cebc4"
      },
      "execution_count": 8,
      "outputs": [
        {
          "output_type": "execute_result",
          "data": {
            "text/plain": [
              "tensor(0.4003)"
            ]
          },
          "metadata": {},
          "execution_count": 8
        }
      ]
    },
    {
      "cell_type": "code",
      "source": [
        "x[0,0] = 2.312\n",
        "x"
      ],
      "metadata": {
        "colab": {
          "base_uri": "https://localhost:8080/"
        },
        "id": "70zAtIAe1fhe",
        "outputId": "5bf3c6d9-82e6-4336-d8c8-f2d5c9830cd8"
      },
      "execution_count": 11,
      "outputs": [
        {
          "output_type": "execute_result",
          "data": {
            "text/plain": [
              "tensor([[2.3120, 0.5918, 0.7612, 0.1421],\n",
              "        [0.5836, 0.2990, 0.3090, 0.7392],\n",
              "        [0.9195, 0.0915, 0.4065, 0.0626]])"
            ]
          },
          "metadata": {},
          "execution_count": 11
        }
      ]
    },
    {
      "cell_type": "code",
      "source": [
        "y = torch.rand(size=(3,4))\n",
        "torch.cat((x,y),dim=1) #concatenation along rows"
      ],
      "metadata": {
        "colab": {
          "base_uri": "https://localhost:8080/"
        },
        "id": "nvFvilCc1iUI",
        "outputId": "5831ad41-8f89-40dd-fc76-d73829f95cc7"
      },
      "execution_count": 12,
      "outputs": [
        {
          "output_type": "execute_result",
          "data": {
            "text/plain": [
              "tensor([[2.3120, 0.5918, 0.7612, 0.1421, 0.0919, 0.8390, 0.6757, 0.9770],\n",
              "        [0.5836, 0.2990, 0.3090, 0.7392, 0.1705, 0.7552, 0.8226, 0.8607],\n",
              "        [0.9195, 0.0915, 0.4065, 0.0626, 0.4448, 0.5817, 0.4482, 0.4136]])"
            ]
          },
          "metadata": {},
          "execution_count": 12
        }
      ]
    },
    {
      "cell_type": "code",
      "source": [
        "torch.cat((x,y),dim=0) #concatenation along cols"
      ],
      "metadata": {
        "colab": {
          "base_uri": "https://localhost:8080/"
        },
        "id": "EEqMmXQ01x-_",
        "outputId": "22a49e02-8459-4355-9c7a-f57109cababf"
      },
      "execution_count": 13,
      "outputs": [
        {
          "output_type": "execute_result",
          "data": {
            "text/plain": [
              "tensor([[2.3120, 0.5918, 0.7612, 0.1421],\n",
              "        [0.5836, 0.2990, 0.3090, 0.7392],\n",
              "        [0.9195, 0.0915, 0.4065, 0.0626],\n",
              "        [0.0919, 0.8390, 0.6757, 0.9770],\n",
              "        [0.1705, 0.7552, 0.8226, 0.8607],\n",
              "        [0.4448, 0.5817, 0.4482, 0.4136]])"
            ]
          },
          "metadata": {},
          "execution_count": 13
        }
      ]
    },
    {
      "cell_type": "code",
      "source": [
        "x.shape"
      ],
      "metadata": {
        "colab": {
          "base_uri": "https://localhost:8080/"
        },
        "id": "8etnoLvM15lK",
        "outputId": "b5e96447-b53c-498d-e207-ced1a4d1ec80"
      },
      "execution_count": 14,
      "outputs": [
        {
          "output_type": "execute_result",
          "data": {
            "text/plain": [
              "torch.Size([3, 4])"
            ]
          },
          "metadata": {},
          "execution_count": 14
        }
      ]
    },
    {
      "cell_type": "code",
      "source": [
        "x.reshape(2,6)"
      ],
      "metadata": {
        "colab": {
          "base_uri": "https://localhost:8080/"
        },
        "id": "4L-AjyMb17CF",
        "outputId": "1874e242-fb24-4fc9-b8de-d3910cd97aaf"
      },
      "execution_count": 16,
      "outputs": [
        {
          "output_type": "execute_result",
          "data": {
            "text/plain": [
              "tensor([[2.3120, 0.5918, 0.7612, 0.1421, 0.5836, 0.2990],\n",
              "        [0.3090, 0.7392, 0.9195, 0.0915, 0.4065, 0.0626]])"
            ]
          },
          "metadata": {},
          "execution_count": 16
        }
      ]
    },
    {
      "cell_type": "code",
      "source": [
        "x.reshape(2,3)"
      ],
      "metadata": {
        "colab": {
          "base_uri": "https://localhost:8080/",
          "height": 141
        },
        "id": "iDR5_uFe19cF",
        "outputId": "d6daffa7-9316-482e-dec6-5ed8027fdc2e"
      },
      "execution_count": 17,
      "outputs": [
        {
          "output_type": "error",
          "ename": "RuntimeError",
          "evalue": "shape '[2, 3]' is invalid for input of size 12",
          "traceback": [
            "\u001b[0;31m---------------------------------------------------------------------------\u001b[0m",
            "\u001b[0;31mRuntimeError\u001b[0m                              Traceback (most recent call last)",
            "\u001b[0;32m<ipython-input-17-3a1ac0a8305b>\u001b[0m in \u001b[0;36m<cell line: 1>\u001b[0;34m()\u001b[0m\n\u001b[0;32m----> 1\u001b[0;31m \u001b[0mx\u001b[0m\u001b[0;34m.\u001b[0m\u001b[0mreshape\u001b[0m\u001b[0;34m(\u001b[0m\u001b[0;36m2\u001b[0m\u001b[0;34m,\u001b[0m\u001b[0;36m3\u001b[0m\u001b[0;34m)\u001b[0m\u001b[0;34m\u001b[0m\u001b[0;34m\u001b[0m\u001b[0m\n\u001b[0m",
            "\u001b[0;31mRuntimeError\u001b[0m: shape '[2, 3]' is invalid for input of size 12"
          ]
        }
      ]
    },
    {
      "cell_type": "code",
      "source": [
        "x.reshape(12,1)"
      ],
      "metadata": {
        "colab": {
          "base_uri": "https://localhost:8080/"
        },
        "id": "PXUsFeRq2Bzb",
        "outputId": "4eea62e2-7131-4995-f58b-97618091f28f"
      },
      "execution_count": 18,
      "outputs": [
        {
          "output_type": "execute_result",
          "data": {
            "text/plain": [
              "tensor([[2.3120],\n",
              "        [0.5918],\n",
              "        [0.7612],\n",
              "        [0.1421],\n",
              "        [0.5836],\n",
              "        [0.2990],\n",
              "        [0.3090],\n",
              "        [0.7392],\n",
              "        [0.9195],\n",
              "        [0.0915],\n",
              "        [0.4065],\n",
              "        [0.0626]])"
            ]
          },
          "metadata": {},
          "execution_count": 18
        }
      ]
    },
    {
      "cell_type": "code",
      "source": [
        "x.view(-1) # Flattening"
      ],
      "metadata": {
        "colab": {
          "base_uri": "https://localhost:8080/"
        },
        "id": "Khctbkh32U1V",
        "outputId": "d30de542-038d-4368-8e84-0780cc6a8691"
      },
      "execution_count": 19,
      "outputs": [
        {
          "output_type": "execute_result",
          "data": {
            "text/plain": [
              "tensor([2.3120, 0.5918, 0.7612, 0.1421, 0.5836, 0.2990, 0.3090, 0.7392, 0.9195,\n",
              "        0.0915, 0.4065, 0.0626])"
            ]
          },
          "metadata": {},
          "execution_count": 19
        }
      ]
    },
    {
      "cell_type": "code",
      "source": [
        "x.view(-1).shape"
      ],
      "metadata": {
        "colab": {
          "base_uri": "https://localhost:8080/"
        },
        "id": "ys9D-aUT2WO_",
        "outputId": "0cf99f5b-80cf-4a49-cbf8-dcb9765a0634"
      },
      "execution_count": 20,
      "outputs": [
        {
          "output_type": "execute_result",
          "data": {
            "text/plain": [
              "torch.Size([12])"
            ]
          },
          "metadata": {},
          "execution_count": 20
        }
      ]
    },
    {
      "cell_type": "code",
      "source": [
        "# batch flattening\n",
        "batch = 16\n",
        "torch.rand((batch,2,5)).view((batch,-1))"
      ],
      "metadata": {
        "colab": {
          "base_uri": "https://localhost:8080/"
        },
        "id": "Tvbbiy3A2ZBR",
        "outputId": "dd311f6e-6efe-434e-c539-d8e342a29ff5"
      },
      "execution_count": 21,
      "outputs": [
        {
          "output_type": "execute_result",
          "data": {
            "text/plain": [
              "tensor([[0.1516, 0.1430, 0.7077, 0.1520, 0.8146, 0.5026, 0.3462, 0.0611, 0.4088,\n",
              "         0.8639],\n",
              "        [0.9354, 0.9989, 0.9958, 0.4534, 0.9096, 0.9557, 0.4171, 0.5001, 0.5363,\n",
              "         0.7124],\n",
              "        [0.3547, 0.3152, 0.5110, 0.3731, 0.2244, 0.7978, 0.6862, 0.0864, 0.6345,\n",
              "         0.2199],\n",
              "        [0.2936, 0.6882, 0.8915, 0.5272, 0.8592, 0.2239, 0.3231, 0.1378, 0.5158,\n",
              "         0.9745],\n",
              "        [0.8234, 0.8574, 0.9026, 0.7769, 0.3570, 0.4178, 0.6860, 0.7759, 0.9328,\n",
              "         0.6256],\n",
              "        [0.1725, 0.2630, 0.9325, 0.0121, 0.5900, 0.0623, 0.3738, 0.8678, 0.6238,\n",
              "         0.8297],\n",
              "        [0.2838, 0.4735, 0.8414, 0.8203, 0.1922, 0.6867, 0.3935, 0.4368, 0.5256,\n",
              "         0.4165],\n",
              "        [0.2628, 0.0987, 0.4576, 0.3371, 0.8680, 0.4140, 0.8218, 0.0534, 0.5403,\n",
              "         0.3331],\n",
              "        [0.9242, 0.3641, 0.1100, 0.6171, 0.9360, 0.0566, 0.9823, 0.0024, 0.3436,\n",
              "         0.9652],\n",
              "        [0.8214, 0.6683, 0.0238, 0.6389, 0.1840, 0.0914, 0.4715, 0.3275, 0.9152,\n",
              "         0.0472],\n",
              "        [0.9857, 0.8687, 0.3322, 0.3103, 0.1821, 0.7657, 0.9031, 0.1542, 0.9541,\n",
              "         0.3039],\n",
              "        [0.8923, 0.3924, 0.1949, 0.3133, 0.3222, 0.2209, 0.9190, 0.9756, 0.7046,\n",
              "         0.3777],\n",
              "        [0.1837, 0.2991, 0.2169, 0.1461, 0.0862, 0.0967, 0.1610, 0.0722, 0.8957,\n",
              "         0.7356],\n",
              "        [0.6367, 0.7271, 0.2458, 0.3569, 0.3921, 0.4163, 0.9781, 0.1764, 0.8275,\n",
              "         0.4813],\n",
              "        [0.4436, 0.4421, 0.0566, 0.8770, 0.7132, 0.3805, 0.5726, 0.8297, 0.6787,\n",
              "         0.1453],\n",
              "        [0.7181, 0.2555, 0.5685, 0.6907, 0.1493, 0.1447, 0.1688, 0.3139, 0.9580,\n",
              "         0.8529]])"
            ]
          },
          "metadata": {},
          "execution_count": 21
        }
      ]
    },
    {
      "cell_type": "code",
      "source": [],
      "metadata": {
        "id": "AhLrUWuW2l9v"
      },
      "execution_count": null,
      "outputs": []
    }
  ]
}